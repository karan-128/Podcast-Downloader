{
 "cells": [
  {
   "cell_type": "markdown",
   "id": "40c46703",
   "metadata": {},
   "source": [
    "<h2>Podcast Downloader</h2>\n",
    "\n",
    "This code scrapes podcast data from Google Podcasts, downloads the podcast and transcribes it"
   ]
  },
  {
   "cell_type": "code",
   "execution_count": 28,
   "id": "32e70696",
   "metadata": {},
   "outputs": [],
   "source": [
    "# Import the required libraries\n",
    "import requests\n",
    "import time\n",
    "import os\n",
    "import re\n",
    "from bs4 import BeautifulSoup"
   ]
  },
  {
   "cell_type": "code",
   "execution_count": 2,
   "id": "b9594565",
   "metadata": {
    "scrolled": true
   },
   "outputs": [],
   "source": [
    "# Link to the rss feed of a podcast \n",
    "rss_feed_url = \"https://www.omnycontent.com/d/playlist/4bb33704-615b-4054-aae9-ace500fd4197/c6e18bb1-650c-43bf-a852-ace600482419/9bac1d6d-3f3a-428a-b8d1-ace600491b2b/podcast.rss\"\n",
    "page = requests.get(rss_feed_url)\n",
    "soup = BeautifulSoup(page.content, 'xml')"
   ]
  },
  {
   "cell_type": "code",
   "execution_count": 3,
   "id": "b57ed919",
   "metadata": {},
   "outputs": [],
   "source": [
    "# Find all podcasts from the RSS Feed\n",
    "podcast_items = soup.find_all('item')"
   ]
  },
  {
   "cell_type": "code",
   "execution_count": 10,
   "id": "35294283",
   "metadata": {
    "scrolled": false
   },
   "outputs": [],
   "source": [
    "# Download the podcast in mp3 format and save it to a local folder\n",
    "count = 0\n",
    "for podcast in podcast_items:\n",
    "    if count == 5:\n",
    "        break\n",
    "    else:\n",
    "        mp3_url = podcast.find('enclosure')['url']\n",
    "        mp3_file = requests.get(mp3_url)\n",
    "        title = podcast.find('title').text\n",
    "        title = re.sub(r'[%/&!@#\\*\\$\\?\\+\\^\\\\.\\\\\\\\]', '', title)[:100]\n",
    "        with open(f'./downloads/{title}.mp3', 'wb') as f:\n",
    "            f.write(mp3_file.content)\n",
    "        count += 1"
   ]
  },
  {
   "cell_type": "markdown",
   "id": "aad8f7cc",
   "metadata": {},
   "source": [
    "<h4>Transcribe Podcasts</h4>\n",
    "\n",
    "We will use Assembly AI to transcribe our podcasts"
   ]
  },
  {
   "cell_type": "code",
   "execution_count": null,
   "id": "4784cba3",
   "metadata": {},
   "outputs": [],
   "source": [
    "#Setup the API key and grab it from our Environment Variables\n",
    "api_key=os.environ[\"ASSEMBLY_AI_KEY\"]"
   ]
  },
  {
   "cell_type": "code",
   "execution_count": 21,
   "id": "494c8735",
   "metadata": {},
   "outputs": [
    {
     "name": "stdout",
     "output_type": "stream",
     "text": [
      "Uploading 10 Money Rules.mp3\n",
      "Uploading Our relationship with our parents.mp3\n",
      "Uploading Should you be nice or honest.mp3\n",
      "Uploading Who hurt you.mp3\n",
      "Uploading Your best friend.mp3\n"
     ]
    }
   ],
   "source": [
    "#Upload the podcasts to Assembly AI\n",
    "headers = {\"authorization\": api_key, \"content-type\": \"application/json\" }\n",
    "file_names = os.listdir('./downloads')\n",
    "output_ids = []\n",
    "\n",
    "def read_file(filename, chunk_size=5242880):\n",
    "    with open(filename, 'rb') as _file:\n",
    "        while True:\n",
    "            data = _file.read(chunk_size)\n",
    "            if not data:\n",
    "                break\n",
    "            yield data\n",
    "for file in file_names:\n",
    "    file_path = f'./downloads/{file}'\n",
    "    print(\"Uploading\", file)\n",
    "    response = requests.post('https://api.assemblyai.com/v2/upload', headers=headers, data=read_file(file_path))\n",
    "    \n",
    "    endpoint = \"https://api.assemblyai.com/v2/transcript\"\n",
    "    json = {\n",
    "        \"audio_url\": response.json()['upload_url'],\n",
    "        \"audio_start_from\": 300000,\n",
    "        \"audio_end_at\": 600000   \n",
    "    }\n",
    "    response = requests.post(endpoint, json=json, headers=headers)\n",
    "    output_ids.append(response.json()['id'])"
   ]
  },
  {
   "cell_type": "code",
   "execution_count": 29,
   "id": "07a51ce8",
   "metadata": {},
   "outputs": [
    {
     "name": "stdout",
     "output_type": "stream",
     "text": [
      "Got transcript\n",
      "Got transcript\n",
      "Got transcript\n",
      "Got transcript\n",
      "Got transcript\n"
     ]
    }
   ],
   "source": [
    "#Grab transcript of the uploaded podcasts and save as .txt to the Transcripts folder\n",
    "i=0\n",
    "for transcript_id in output_ids:\n",
    "    endpoint = f'https://api.assemblyai.com/v2/transcript/{transcript_id}'\n",
    "    while True:\n",
    "        response = requests.get(endpoint,headers=headers)\n",
    "        status = response.json()['status']\n",
    "        if status == 'completed':\n",
    "            print(\"Success!, Got transcript\")\n",
    "            with open(f'./transcripts/{file_names[i]}.txt','w') as f:\n",
    "                f.write(response.json()['text'])\n",
    "                i+=1\n",
    "            break\n",
    "        print(\"Couldn't retrieve transcript, try again in 3 minutes\")\n",
    "        time.sleep(180)"
   ]
  }
 ],
 "metadata": {
  "kernelspec": {
   "display_name": "Python 3 (ipykernel)",
   "language": "python",
   "name": "python3"
  },
  "language_info": {
   "codemirror_mode": {
    "name": "ipython",
    "version": 3
   },
   "file_extension": ".py",
   "mimetype": "text/x-python",
   "name": "python",
   "nbconvert_exporter": "python",
   "pygments_lexer": "ipython3",
   "version": "3.9.13"
  }
 },
 "nbformat": 4,
 "nbformat_minor": 5
}
